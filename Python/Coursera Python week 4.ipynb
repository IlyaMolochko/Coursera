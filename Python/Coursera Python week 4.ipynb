{
 "cells": [
  {
   "cell_type": "code",
   "execution_count": null,
   "metadata": {
    "collapsed": true
   },
   "outputs": [],
   "source": [
    "import math\n",
    "\n",
    "\n",
    "def MinDivisor(n):\n",
    "    i = 2\n",
    "    while i <= math.sqrt(n):\n",
    "        if n % i == 0:\n",
    "            return i\n",
    "        else:\n",
    "            i += 1\n",
    "    return n\n",
    "\n",
    "\n",
    "n = int(input())\n",
    "print(MinDivisor(n))\n"
   ]
  },
  {
   "cell_type": "code",
   "execution_count": null,
   "metadata": {
    "collapsed": true
   },
   "outputs": [],
   "source": [
    "import math\n",
    "\n",
    "\n",
    "def isPrime(n):\n",
    "    i = 2\n",
    "    while i <= math.sqrt(n):\n",
    "        if n % i == 0:\n",
    "            return 'NO'\n",
    "        else:\n",
    "            i += 1\n",
    "    return 'YES'\n",
    "\n",
    "\n",
    "n = int(input())\n",
    "print(isPrime(n))\n"
   ]
  },
  {
   "cell_type": "code",
   "execution_count": 2,
   "metadata": {},
   "outputs": [
    {
     "name": "stdout",
     "output_type": "stream",
     "text": [
      "2.1\n",
      "2\n",
      "4.41\n"
     ]
    }
   ],
   "source": [
    "def power(a, n):\n",
    "    if n >= 1:\n",
    "        return a * power(a, n - 1)\n",
    "    return 1\n",
    "\n",
    "\n",
    "a = float(input())\n",
    "n = int(input())\n",
    "print(power(a, n))"
   ]
  },
  {
   "cell_type": "code",
   "execution_count": 5,
   "metadata": {},
   "outputs": [
    {
     "name": "stdout",
     "output_type": "stream",
     "text": [
      "2\n",
      "2\n",
      "4\n"
     ]
    }
   ],
   "source": [
    "def sum(a, b):\n",
    "    if b >= 1:\n",
    "        a += 1\n",
    "        b -= 1\n",
    "        return sum(a, b)\n",
    "    return a\n",
    "\n",
    "\n",
    "a = int(input())\n",
    "b = int(input())\n",
    "print(sum(a, b))"
   ]
  },
  {
   "cell_type": "code",
   "execution_count": 10,
   "metadata": {},
   "outputs": [
    {
     "name": "stdout",
     "output_type": "stream",
     "text": [
      "2\n",
      "5\n",
      "32.0\n"
     ]
    }
   ],
   "source": [
    "# Возводить в степень можно гораздо быстрее, чем за n умножений! \n",
    "# Для этого нужно воспользоваться следующими рекуррентными соотношениями: aⁿ = (a²)ⁿ/² при четном n, \n",
    "#     aⁿ=a⋅aⁿ⁻¹ при нечетном n. Реализуйте алгоритм быстрого возведения в степень. \n",
    "#     Если вы все сделаете правильно,то сложность вашего алгоритма будет O(logn).\n",
    "def myPow(a, n):\n",
    "    if n != 0:\n",
    "        if n % 2 == 0:\n",
    "            return myPow(a ** 2, n / 2)\n",
    "        elif n % 2 == 1:\n",
    "            return a * myPow(a, n - 1)\n",
    "    return 1\n",
    "\n",
    "\n",
    "a = float(input())\n",
    "n = int(input())\n",
    "print(myPow(a, n))"
   ]
  },
  {
   "cell_type": "code",
   "execution_count": null,
   "metadata": {},
   "outputs": [],
   "source": [
    "def gcd(a, b):\n",
    "    if a % b != 0:\n",
    "        return gcd(b, a % b)\n",
    "    return b\n",
    "\n",
    "\n",
    "a = int(input())\n",
    "b = int(input())\n",
    "print(gcd(a, b))"
   ]
  },
  {
   "cell_type": "code",
   "execution_count": null,
   "metadata": {},
   "outputs": [],
   "source": [
    "# Даны два натуральных числа n и m. Сократите дробь (n / m), то есть выведите два других числа p и q таких, \n",
    "# что (n / m)=(p / q) и дробь (p / q) — несократимая.\n",
    "# Решение оформите в виде функции ReduceFraction(n, m), получающая значения n и m и возвращающей кортеж из двух чисел.\n",
    "\n",
    "import math\n",
    "\n",
    "\n",
    "def ReduceFraction(n, m):\n",
    "    a = math.gcd(n, m)\n",
    "    return (n // a, m // a)\n",
    "\n",
    "\n",
    "a = int(input())\n",
    "b = int(input())\n",
    "(a, b) = ReduceFraction(a, b)\n",
    "print(a, b)"
   ]
  },
  {
   "cell_type": "code",
   "execution_count": null,
   "metadata": {
    "collapsed": true
   },
   "outputs": [],
   "source": [
    "def sum(n):\n",
    "    if n != 0:\n",
    "        a = int(input())\n",
    "        n += sum(a)\n",
    "    return n\n",
    "\n",
    "\n",
    "a = int(input())\n",
    "print(sum(a))"
   ]
  },
  {
   "cell_type": "code",
   "execution_count": null,
   "metadata": {
    "collapsed": true
   },
   "outputs": [],
   "source": [
    "def reverse(n):\n",
    "    if n != 0:\n",
    "        a = int(input())\n",
    "        reverse(a)\n",
    "    print(n)\n",
    "\n",
    "\n",
    "a = int(input())\n",
    "reverse(a)"
   ]
  }
 ],
 "metadata": {
  "kernelspec": {
   "display_name": "Python 3",
   "language": "python",
   "name": "python3"
  },
  "language_info": {
   "codemirror_mode": {
    "name": "ipython",
    "version": 3
   },
   "file_extension": ".py",
   "mimetype": "text/x-python",
   "name": "python",
   "nbconvert_exporter": "python",
   "pygments_lexer": "ipython3",
   "version": "3.6.1"
  }
 },
 "nbformat": 4,
 "nbformat_minor": 2
}
