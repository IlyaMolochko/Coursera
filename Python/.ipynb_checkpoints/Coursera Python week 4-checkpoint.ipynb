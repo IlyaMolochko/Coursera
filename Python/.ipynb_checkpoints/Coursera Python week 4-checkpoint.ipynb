{
 "cells": [
  {
   "cell_type": "code",
   "execution_count": null,
   "metadata": {
    "collapsed": true
   },
   "outputs": [],
   "source": [
    "import math\n",
    "\n",
    "\n",
    "def MinDivisor(n):\n",
    "    i = 2\n",
    "    while i <= math.sqrt(n):\n",
    "        if n % i == 0:\n",
    "            return i\n",
    "        else:\n",
    "            i += 1\n",
    "    return n\n",
    "\n",
    "\n",
    "n = int(input())\n",
    "print(MinDivisor(n))\n"
   ]
  },
  {
   "cell_type": "code",
   "execution_count": null,
   "metadata": {
    "collapsed": true
   },
   "outputs": [],
   "source": [
    "import math\n",
    "\n",
    "\n",
    "def isPrime(n):\n",
    "    i = 2\n",
    "    while i <= math.sqrt(n):\n",
    "        if n % i == 0:\n",
    "            return 'NO'\n",
    "        else:\n",
    "            i += 1\n",
    "    return 'YES'\n",
    "\n",
    "\n",
    "n = int(input())\n",
    "print(isPrime(n))\n"
   ]
  },
  {
   "cell_type": "code",
   "execution_count": null,
   "metadata": {},
   "outputs": [],
   "source": [
    "def power(a, n):\n",
    "    if n >= 1:\n",
    "        return a * power(a, n - 1)\n",
    "    return 1\n",
    "\n",
    "\n",
    "a = float(input())\n",
    "n = int(input())\n",
    "print(power(a, n))"
   ]
  },
  {
   "cell_type": "code",
   "execution_count": null,
   "metadata": {
    "collapsed": true
   },
   "outputs": [],
   "source": [
    "def sum(a, b):\n",
    "    if b > 1:\n",
    "        a += 1\n",
    "        b -= 1\n",
    "        return sum(a, b)\n",
    "    return a"
   ]
  }
 ],
 "metadata": {
  "kernelspec": {
   "display_name": "Python 3",
   "language": "python",
   "name": "python3"
  },
  "language_info": {
   "codemirror_mode": {
    "name": "ipython",
    "version": 3
   },
   "file_extension": ".py",
   "mimetype": "text/x-python",
   "name": "python",
   "nbconvert_exporter": "python",
   "pygments_lexer": "ipython3",
   "version": "3.6.1"
  }
 },
 "nbformat": 4,
 "nbformat_minor": 2
}
