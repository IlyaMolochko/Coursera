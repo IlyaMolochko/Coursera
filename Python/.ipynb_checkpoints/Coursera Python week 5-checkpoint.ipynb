{
 "cells": [
  {
   "cell_type": "code",
   "execution_count": null,
   "metadata": {
    "collapsed": true
   },
   "outputs": [],
   "source": [
    "a = int(input())\n",
    "b = int(input())\n",
    "for i in range(a, b + 1):\n",
    "    print(i, end=' ')"
   ]
  },
  {
   "cell_type": "code",
   "execution_count": null,
   "metadata": {
    "collapsed": true
   },
   "outputs": [],
   "source": [
    "a = int(input())\n",
    "b = int(input())\n",
    "if a < b:\n",
    "    for i in range(a, b + 1):\n",
    "        print(i, end=' ')\n",
    "else:\n",
    "    for i in range(a, b - 1, -1):\n",
    "        print(i, end=' ')"
   ]
  },
  {
   "cell_type": "code",
   "execution_count": 1,
   "metadata": {},
   "outputs": [
    {
     "name": "stdout",
     "output_type": "stream",
     "text": [
      "9\n",
      "+___ +___ +___ +___ +___ +___ +___ +___ +___ \n",
      "|1 / |2 / |3 / |4 / |5 / |6 / |7 / |8 / |9 / \n",
      "|__\\ |__\\ |__\\ |__\\ |__\\ |__\\ |__\\ |__\\ |__\\ \n",
      "|    |    |    |    |    |    |    |    |    "
     ]
    }
   ],
   "source": [
    "n = int(input())\n",
    "for j in range(n):\n",
    "    print('+___', end=' ')\n",
    "print()\n",
    "for i in range(n):\n",
    "    print('|', i + 1, ' /', sep='', end=' ')\n",
    "print()\n",
    "for j in range(n):\n",
    "    print('|__\\\\',sep='', end=' ')\n",
    "print()\n",
    "for j in range(n):\n",
    "    print('|', end=' '*4)\n"
   ]
  },
  {
   "cell_type": "code",
   "execution_count": 7,
   "metadata": {},
   "outputs": [
    {
     "name": "stdout",
     "output_type": "stream",
     "text": [
      "9\n",
      "1\n",
      "12\n",
      "123\n",
      "1234\n",
      "12345\n",
      "123456\n",
      "1234567\n",
      "12345678\n",
      "123456789\n"
     ]
    }
   ],
   "source": [
    "n = int(input())\n",
    "for i in range(1, n + 1):\n",
    "    for j in range(1, i + 1):\n",
    "        print(j, end='')\n",
    "    print()"
   ]
  },
  {
   "cell_type": "code",
   "execution_count": 4,
   "metadata": {},
   "outputs": [
    {
     "name": "stdout",
     "output_type": "stream",
     "text": [
      "1 2 3 4 5\n",
      "1 3 5\n"
     ]
    }
   ],
   "source": [
    "a = list(map(int, input().split()))\n",
    "print(' '.join(map(str, a[::2])))\n"
   ]
  },
  {
   "cell_type": "code",
   "execution_count": 1,
   "metadata": {},
   "outputs": [
    {
     "name": "stdout",
     "output_type": "stream",
     "text": [
      "1 2 2 2 3 5 7\n",
      "2 2 2\n"
     ]
    }
   ],
   "source": [
    "a = list(x for x in map(int, input().split()) if x % 2 == 0)\n",
    "print(' '.join(map(str, a)))"
   ]
  },
  {
   "cell_type": "code",
   "execution_count": 3,
   "metadata": {},
   "outputs": [
    {
     "name": "stdout",
     "output_type": "stream",
     "text": [
      " -1 2 -3 -4 -5 6 7 -8 9\n",
      "4\n"
     ]
    }
   ],
   "source": [
    "a = list(x for x in map(int, input().split()) if x > 0)\n",
    "print(len(a))"
   ]
  },
  {
   "cell_type": "code",
   "execution_count": 4,
   "metadata": {},
   "outputs": [
    {
     "name": "stdout",
     "output_type": "stream",
     "text": [
      "3 2 2 2 3\n",
      "3 4\n"
     ]
    }
   ],
   "source": [
    "a = list(x for x in map(int, input().split()))\n",
    "print(max(a), ''.join(map(str, a)).rindex(str(max(a))))"
   ]
  },
  {
   "cell_type": "code",
   "execution_count": 1,
   "metadata": {},
   "outputs": [
    {
     "name": "stdout",
     "output_type": "stream",
     "text": [
      "3 2 2 2 3\n",
      "3 4\n"
     ]
    }
   ],
   "source": [
    "a = list(map(int, input().split()))\n",
    "index = 0\n",
    "max = int(a[0])\n",
    "for i in range(len(a)):\n",
    "    if int(a[i]) >= max:\n",
    "        max = int(a[i])\n",
    "        index = i\n",
    "print(max, index)\n"
   ]
  },
  {
   "cell_type": "code",
   "execution_count": 4,
   "metadata": {},
   "outputs": [
    {
     "name": "stdout",
     "output_type": "stream",
     "text": [
      "2 3 1 2 3 5 4\n",
      "3 2 3 5 "
     ]
    }
   ],
   "source": [
    "a = list(map(int, input().split()))\n",
    "for i in range(1, len(a)):\n",
    "    if int(a[i - 1]) < int(a[i]):\n",
    "        print(a[i], end=' ')"
   ]
  },
  {
   "cell_type": "code",
   "execution_count": 6,
   "metadata": {
    "scrolled": true
   },
   "outputs": [
    {
     "name": "stdout",
     "output_type": "stream",
     "text": [
      "5 -4 3 -2 1\n",
      "1\n"
     ]
    }
   ],
   "source": [
    "a = list(i for i in map(int, input().split()) if i > 0)\n",
    "print(min(a))"
   ]
  },
  {
   "cell_type": "code",
   "execution_count": 8,
   "metadata": {},
   "outputs": [
    {
     "name": "stdout",
     "output_type": "stream",
     "text": [
      "5\n",
      "1 2 3 4 5\n",
      "6\n",
      "1\n"
     ]
    }
   ],
   "source": [
    "n = int(input())\n",
    "a = list(map(int, input().split()))\n",
    "x = int(input())\n",
    "min = 1000\n",
    "near = 1000\n",
    "for i in range(len(a)):\n",
    "    if abs(a[i] - x) < min:\n",
    "        min = a[i] - x\n",
    "        near = a[i]\n",
    "    if abs(a[i] + x) < min:\n",
    "        min = a[i] - x\n",
    "        near = a[i]\n",
    "print(near)"
   ]
  },
  {
   "cell_type": "code",
   "execution_count": 12,
   "metadata": {},
   "outputs": [
    {
     "name": "stdout",
     "output_type": "stream",
     "text": [
      "1 2 3 4 5 \n",
      "2 1 4 3 5\n"
     ]
    }
   ],
   "source": [
    "a = list(map(int, input().split()))\n",
    "newList = []\n",
    "for i in range(0, len(a), 2):\n",
    "    if i != len(a) - 1:\n",
    "        newList.append(a[i + 1])\n",
    "        newList.append(a[i])\n",
    "    elif i == len(a) - 1 :\n",
    "        newList.append(a[i])\n",
    "print(' '.join(map(str, newList)))"
   ]
  },
  {
   "cell_type": "code",
   "execution_count": null,
   "metadata": {},
   "outputs": [],
   "source": [
    "a = list(map(int, input().split()))\n",
    "min = min(a)\n",
    "max = max(a)\n",
    "b = list(a)\n",
    "b[int(a.index(min))], b[int(a.index(max))] = max, min\n",
    "print(' '.join(map(str, b)))"
   ]
  },
  {
   "cell_type": "code",
   "execution_count": null,
   "metadata": {
    "collapsed": true
   },
   "outputs": [],
   "source": []
  }
 ],
 "metadata": {
  "kernelspec": {
   "display_name": "Python 3",
   "language": "python",
   "name": "python3"
  },
  "language_info": {
   "codemirror_mode": {
    "name": "ipython",
    "version": 3
   },
   "file_extension": ".py",
   "mimetype": "text/x-python",
   "name": "python",
   "nbconvert_exporter": "python",
   "pygments_lexer": "ipython3",
   "version": "3.6.1"
  }
 },
 "nbformat": 4,
 "nbformat_minor": 2
}
